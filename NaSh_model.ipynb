{
 "cells": [
  {
   "cell_type": "code",
   "execution_count": 41,
   "id": "40a043dc",
   "metadata": {},
   "outputs": [],
   "source": [
    "import pandas as pd\n",
    "import numpy as np\n",
    "from modules.models import NaSh\n",
    "import dask\n",
    "from dask import delayed, compute\n",
    "import numba\n",
    "import dask.bag as db\n",
    "import time"
   ]
  },
  {
   "cell_type": "code",
   "execution_count": 51,
   "id": "e99e7071",
   "metadata": {},
   "outputs": [],
   "source": [
    "n_cells = 2000\n",
    "time_stabil = 10*n_cells\n",
    "time_research = 100\n",
    "probability = 0.5\n",
    "velosity_max = 5\n",
    "n_density = 16\n",
    "\n",
    "density = np.linspace(0, 1, n_density+1)[1:]\n",
    "flow = []\n",
    "n_cars = np.int_(n_cells*density)"
   ]
  },
  {
   "cell_type": "code",
   "execution_count": 52,
   "id": "791544ae",
   "metadata": {},
   "outputs": [
    {
     "data": {
      "text/plain": [
       "array([ 125,  250,  375,  500,  625,  750,  875, 1000, 1125, 1250, 1375,\n",
       "       1500, 1625, 1750, 1875, 2000])"
      ]
     },
     "execution_count": 52,
     "metadata": {},
     "output_type": "execute_result"
    }
   ],
   "source": [
    "n_cars"
   ]
  },
  {
   "cell_type": "code",
   "execution_count": 53,
   "id": "b3364566",
   "metadata": {},
   "outputs": [],
   "source": [
    "def get_flow(n_cars, n_cells):\n",
    "    time_stabil = 10*n_cells\n",
    "    time_research = 100\n",
    "    probability = 0.5\n",
    "    model = NaSh(n_cells, n_cars)\n",
    "    model.set_slow_probability(probability)\n",
    "    model.system_stabilization(time_stabil)\n",
    "    model.system_research(time_research)\n",
    "    return model.avarage_flow()"
   ]
  },
  {
   "cell_type": "code",
   "execution_count": 54,
   "id": "e98ca3ac",
   "metadata": {},
   "outputs": [
    {
     "name": "stdout",
     "output_type": "stream",
     "text": [
      "Wall time: 1min 24s\n"
     ]
    }
   ],
   "source": [
    "%%time \n",
    "for car in n_cars:\n",
    "    get_flow(car, n_cells)"
   ]
  },
  {
   "cell_type": "code",
   "execution_count": 7,
   "id": "59fe1951",
   "metadata": {},
   "outputs": [
    {
     "data": {
      "text/plain": [
       "'\\nresult = {\\n    \\'density\\': density,\\n    \"flow\": flow,\\n}\\n\\ntable = pd.DataFrame(result)\\n'"
      ]
     },
     "execution_count": 7,
     "metadata": {},
     "output_type": "execute_result"
    }
   ],
   "source": [
    "\"\"\"\n",
    "result = {\n",
    "    'density': density,\n",
    "    \"flow\": flow,\n",
    "}\n",
    "\n",
    "table = pd.DataFrame(result)\n",
    "\"\"\""
   ]
  },
  {
   "cell_type": "code",
   "execution_count": null,
   "id": "6614e118",
   "metadata": {},
   "outputs": [],
   "source": [
    "table.to_csv(f\"data/nash_probability_{probability}.csv\", index=False)"
   ]
  },
  {
   "cell_type": "code",
   "execution_count": 59,
   "id": "14d46e40",
   "metadata": {},
   "outputs": [],
   "source": [
    "from joblib import Parallel, delayed\n",
    "import math"
   ]
  },
  {
   "cell_type": "code",
   "execution_count": 64,
   "id": "a742974b",
   "metadata": {},
   "outputs": [
    {
     "name": "stdout",
     "output_type": "stream",
     "text": [
      "Wall time: 26.7 s\n"
     ]
    },
    {
     "data": {
      "text/plain": [
       "[0.27924,\n",
       " 0.302515,\n",
       " 0.299045,\n",
       " 0.28003500000000003,\n",
       " 0.258395,\n",
       " 0.237995,\n",
       " 0.2195,\n",
       " 0.197835,\n",
       " 0.177705,\n",
       " 0.157075,\n",
       " 0.13366999999999998,\n",
       " 0.10959,\n",
       " 0.08545,\n",
       " 0.058005,\n",
       " 0.030445,\n",
       " 0.0]"
      ]
     },
     "execution_count": 64,
     "metadata": {},
     "output_type": "execute_result"
    }
   ],
   "source": [
    "%%time\n",
    "Parallel(n_jobs=4)(delayed(get_flow)(car, n_cells) for car in cars)"
   ]
  },
  {
   "cell_type": "code",
   "execution_count": null,
   "id": "60b31490",
   "metadata": {},
   "outputs": [],
   "source": []
  }
 ],
 "metadata": {
  "kernelspec": {
   "display_name": "Python 3 (ipykernel)",
   "language": "python",
   "name": "python3"
  },
  "language_info": {
   "codemirror_mode": {
    "name": "ipython",
    "version": 3
   },
   "file_extension": ".py",
   "mimetype": "text/x-python",
   "name": "python",
   "nbconvert_exporter": "python",
   "pygments_lexer": "ipython3",
   "version": "3.8.3"
  }
 },
 "nbformat": 4,
 "nbformat_minor": 5
}
