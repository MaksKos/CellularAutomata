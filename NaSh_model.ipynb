{
 "cells": [
  {
   "cell_type": "code",
   "execution_count": 7,
   "id": "40a043dc",
   "metadata": {},
   "outputs": [],
   "source": [
    "import pandas as pd\n",
    "import numpy as np\n",
    "from modules.models import NaSh, get_flow\n",
    "from joblib import Parallel, delayed"
   ]
  },
  {
   "cell_type": "markdown",
   "id": "5eb135b8",
   "metadata": {},
   "source": [
    "## Фундаментальные диаграммы"
   ]
  },
  {
   "cell_type": "markdown",
   "id": "e0fcfc84",
   "metadata": {},
   "source": [
    "__NaSh__ with different slow effect probability"
   ]
  },
  {
   "cell_type": "code",
   "execution_count": 8,
   "id": "e99e7071",
   "metadata": {},
   "outputs": [],
   "source": [
    "CORE = 5\n",
    "\n",
    "n_cells = 10000\n",
    "time_stabil = 10*n_cells\n",
    "time_research = 100\n",
    "probability = 0.2\n",
    "velosity_max = 5\n",
    "n_density = 100\n",
    "\n",
    "density = np.linspace(0, 1, n_density+1)[1:]\n",
    "cars = np.int_(n_cells*density)"
   ]
  },
  {
   "cell_type": "code",
   "execution_count": 9,
   "id": "e98ca3ac",
   "metadata": {},
   "outputs": [],
   "source": [
    "%%time\n",
    "flow =  Parallel(n_jobs=CORE)(delayed(get_flow)(car, n_cells, probability, time_stabil, time_research ) for car in cars)"
   ]
  },
  {
   "cell_type": "code",
   "execution_count": 12,
   "id": "1d720882",
   "metadata": {},
   "outputs": [],
   "source": [
    "result = {\n",
    "    'density': density,\n",
    "    \"flow\": flow,\n",
    "}"
   ]
  },
  {
   "cell_type": "code",
   "execution_count": 13,
   "id": "dfedac43",
   "metadata": {},
   "outputs": [],
   "source": [
    "table = pd.DataFrame(result)"
   ]
  },
  {
   "cell_type": "code",
   "execution_count": 14,
   "id": "8afa9570",
   "metadata": {},
   "outputs": [],
   "source": [
    "table.to_csv(f\"data/nash_probability_{probability}.csv\", index=False)"
   ]
  },
  {
   "cell_type": "markdown",
   "id": "03282bc6",
   "metadata": {},
   "source": [
    "__Nash__ with different num of auto drive cars"
   ]
  },
  {
   "cell_type": "code",
   "execution_count": null,
   "id": "a1ffa4b0",
   "metadata": {},
   "outputs": [],
   "source": []
  },
  {
   "cell_type": "markdown",
   "id": "9549de3e",
   "metadata": {},
   "source": [
    "## X-t диаграмма NaSh (classic)"
   ]
  },
  {
   "cell_type": "code",
   "execution_count": null,
   "id": "269b8d99",
   "metadata": {},
   "outputs": [],
   "source": []
  }
 ],
 "metadata": {
  "kernelspec": {
   "display_name": "Python 3",
   "language": "python",
   "name": "python3"
  },
  "language_info": {
   "codemirror_mode": {
    "name": "ipython",
    "version": 3
   },
   "file_extension": ".py",
   "mimetype": "text/x-python",
   "name": "python",
   "nbconvert_exporter": "python",
   "pygments_lexer": "ipython3",
   "version": "3.8.8"
  }
 },
 "nbformat": 4,
 "nbformat_minor": 5
}
