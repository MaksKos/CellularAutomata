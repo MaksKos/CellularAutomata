{
 "cells": [
  {
   "cell_type": "code",
   "execution_count": 16,
   "id": "40a043dc",
   "metadata": {},
   "outputs": [],
   "source": [
    "import pandas as pd\n",
    "import numpy as np\n",
    "from modules.models import NaSh\n",
    "import dask\n",
    "import dask\n",
    "from dask import delayed, compute\n",
    "import numba"
   ]
  },
  {
   "cell_type": "code",
   "execution_count": 13,
   "id": "bf67c5cf",
   "metadata": {},
   "outputs": [],
   "source": [
    "n_cells = 10000\n",
    "time_stabil = 10*n_cells\n",
    "time_research = 100\n",
    "probability = 0.5\n",
    "velosity_max = 5\n",
    "n_density = 100\n",
    "\n",
    "density = np.linspace(0, 1, n_density+1)[1:]\n",
    "flow = []\n",
    "n_cars = np.int_(n_cells*density)"
   ]
  },
  {
   "cell_type": "code",
   "execution_count": 14,
   "id": "afcdb35b",
   "metadata": {},
   "outputs": [],
   "source": [
    "for i in range(n_density):\n",
    "    model = NaSh(n_cells, n_cars[i])\n",
    "    delayed(model.set_slow_probability)(probability)\n",
    "    delayed(model.system_stabilization)(time_stabil)\n",
    "    delayed(model.system_research)(time_research)\n",
    "    flow.append(delayed(model.avarage_flow)())"
   ]
  },
  {
   "cell_type": "code",
   "execution_count": 15,
   "id": "98fe2b22",
   "metadata": {},
   "outputs": [
    {
     "ename": "AttributeError",
     "evalue": "'list' object has no attribute 'compute'",
     "output_type": "error",
     "traceback": [
      "\u001b[1;31m---------------------------------------------------------------------------\u001b[0m",
      "\u001b[1;31mAttributeError\u001b[0m                            Traceback (most recent call last)",
      "\u001b[1;32m<timed eval>\u001b[0m in \u001b[0;36m<module>\u001b[1;34m\u001b[0m\n",
      "\u001b[1;31mAttributeError\u001b[0m: 'list' object has no attribute 'compute'"
     ]
    }
   ],
   "source": [
    "%time flow.compute()"
   ]
  },
  {
   "cell_type": "code",
   "execution_count": null,
   "id": "8c8b0312",
   "metadata": {},
   "outputs": [],
   "source": [
    "result = {\n",
    "    'density': density,\n",
    "    \"flow\": flow,\n",
    "}\n",
    "\n",
    "table = pd.DataFrame(result)"
   ]
  },
  {
   "cell_type": "code",
   "execution_count": null,
   "id": "9101b69e",
   "metadata": {},
   "outputs": [],
   "source": [
    "table.to_csv(f\"data/nash_probability_{probability}.csv\", index=False)"
   ]
  }
 ],
 "metadata": {
  "kernelspec": {
   "display_name": "Python 3 (ipykernel)",
   "language": "python",
   "name": "python3"
  },
  "language_info": {
   "codemirror_mode": {
    "name": "ipython",
    "version": 3
   },
   "file_extension": ".py",
   "mimetype": "text/x-python",
   "name": "python",
   "nbconvert_exporter": "python",
   "pygments_lexer": "ipython3",
   "version": "3.8.3"
  }
 },
 "nbformat": 4,
 "nbformat_minor": 5
}
