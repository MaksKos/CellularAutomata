{
 "cells": [
  {
   "cell_type": "code",
   "execution_count": 1,
   "id": "a2afdb7b",
   "metadata": {},
   "outputs": [],
   "source": [
    "import numpy as np"
   ]
  },
  {
   "cell_type": "code",
   "execution_count": 50,
   "id": "de6ff889",
   "metadata": {},
   "outputs": [],
   "source": [
    "a = np.array([1,4,5,7,11,12])\n",
    "b = [1,4,5,7,11,12]"
   ]
  },
  {
   "cell_type": "code",
   "execution_count": 55,
   "id": "1f8fc509",
   "metadata": {},
   "outputs": [],
   "source": [
    "c = np.roll(a, -1)-a\n",
    "c[-1]+=13"
   ]
  },
  {
   "cell_type": "code",
   "execution_count": 56,
   "id": "4d6d82d8",
   "metadata": {},
   "outputs": [
    {
     "data": {
      "text/plain": [
       "array([3, 1, 2, 4, 1, 2])"
      ]
     },
     "execution_count": 56,
     "metadata": {},
     "output_type": "execute_result"
    }
   ],
   "source": [
    "c"
   ]
  },
  {
   "cell_type": "code",
   "execution_count": 32,
   "id": "753da06c",
   "metadata": {},
   "outputs": [
    {
     "data": {
      "text/plain": [
       "[11, 12]"
      ]
     },
     "execution_count": 32,
     "metadata": {},
     "output_type": "execute_result"
    }
   ],
   "source": [
    "b[-2:]"
   ]
  },
  {
   "cell_type": "code",
   "execution_count": 17,
   "id": "540604db",
   "metadata": {},
   "outputs": [
    {
     "data": {
      "text/plain": [
       "array([5111881, 5177412, 5439575, 5439580, 7536761, 6619252])"
      ]
     },
     "execution_count": 17,
     "metadata": {},
     "output_type": "execute_result"
    }
   ],
   "source": [
    "np.a"
   ]
  }
 ],
 "metadata": {
  "kernelspec": {
   "display_name": "Python 3 (ipykernel)",
   "language": "python",
   "name": "python3"
  },
  "language_info": {
   "codemirror_mode": {
    "name": "ipython",
    "version": 3
   },
   "file_extension": ".py",
   "mimetype": "text/x-python",
   "name": "python",
   "nbconvert_exporter": "python",
   "pygments_lexer": "ipython3",
   "version": "3.8.3"
  }
 },
 "nbformat": 4,
 "nbformat_minor": 5
}
